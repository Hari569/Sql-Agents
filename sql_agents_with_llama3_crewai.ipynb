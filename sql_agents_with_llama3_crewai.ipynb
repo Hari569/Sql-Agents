{
  "nbformat": 4,
  "nbformat_minor": 0,
  "metadata": {
    "colab": {
      "provenance": [],
      "gpuType": "T4",
      "authorship_tag": "ABX9TyMrGza3DzvvSPISKEWSAqGl"
    },
    "kernelspec": {
      "name": "python3",
      "display_name": "Python 3"
    },
    "language_info": {
      "name": "python"
    },
    "accelerator": "GPU"
  },
  "cells": [
    {
      "cell_type": "code",
      "execution_count": 1,
      "metadata": {
        "colab": {
          "base_uri": "https://localhost:8080/"
        },
        "id": "dB9Fx7TVeTiC",
        "outputId": "dd43994c-c44d-4b39-d100-ec1316dea801"
      },
      "outputs": [
        {
          "output_type": "stream",
          "name": "stdout",
          "text": [
            "  Preparing metadata (setup.py) ... \u001b[?25l\u001b[?25hdone\n",
            "  Installing build dependencies ... \u001b[?25l\u001b[?25hdone\n",
            "  Getting requirements to build wheel ... \u001b[?25l\u001b[?25hdone\n",
            "  Preparing metadata (pyproject.toml) ... \u001b[?25l\u001b[?25hdone\n",
            "  Building wheel for docx2txt (setup.py) ... \u001b[?25l\u001b[?25hdone\n",
            "  Building wheel for pypika (pyproject.toml) ... \u001b[?25l\u001b[?25hdone\n",
            "\u001b[31mERROR: pip's dependency resolver does not currently take into account all the packages that are installed. This behaviour is the source of the following dependency conflicts.\n",
            "crewai 0.32.0 requires langchain<0.2.0,>=0.1.10, but you have langchain 0.2.15 which is incompatible.\n",
            "crewai-tools 0.3.0 requires langchain<0.2.0,>=0.1.4, but you have langchain 0.2.15 which is incompatible.\n",
            "embedchain 0.1.109 requires langchain<0.2.0,>=0.1.4, but you have langchain 0.2.15 which is incompatible.\u001b[0m\u001b[31m\n",
            "\u001b[0m"
          ]
        }
      ],
      "source": [
        "!pip -qqq install pip --progress-bar off\n",
        "!pip -qqq install langchain-core==0.2.9 --progress-bar off\n",
        "!pip -qqq install langchain-community==0.2.5 --progress-bar off\n",
        "!pip -qqq install 'crewai[tools]'==0.32.0 --progress-bar off\n",
        "!pip -qqq install langchain-groq==0.1.5 --progress-bar off\n",
        "!pip -qqq install langchain-experimental==0.0.61 --progress-bar off"
      ]
    },
    {
      "cell_type": "code",
      "source": [
        "import json\n",
        "import os\n",
        "import sqlite3\n",
        "from dataclasses import asdict, dataclass\n",
        "from datetime import datetime, timezone\n",
        "from pathlib import Path\n",
        "from textwrap import dedent\n",
        "from typing import Any, Dict, List, Tuple, Union\n",
        "\n",
        "import pandas as pd\n",
        "from crewai import Agent, Crew, Process, Task\n",
        "from crewai_tools import tool\n",
        "from google.colab import userdata\n",
        "from langchain.schema import AgentFinish\n",
        "from langchain.schema.output import LLMResult\n",
        "from langchain_community.tools.sql_database.tool import (\n",
        "    InfoSQLDatabaseTool,\n",
        "    ListSQLDatabaseTool,\n",
        "    QuerySQLCheckerTool,\n",
        "    QuerySQLDataBaseTool,\n",
        ")\n",
        "from langchain_community.utilities.sql_database import SQLDatabase\n",
        "from langchain_core.callbacks.base import BaseCallbackHandler\n",
        "from langchain_core.prompts import ChatPromptTemplate\n",
        "from langchain_groq import ChatGroq"
      ],
      "metadata": {
        "colab": {
          "base_uri": "https://localhost:8080/"
        },
        "id": "ArnS31bze0O6",
        "outputId": "9c4cda0d-66d1-4e04-f152-ea7a49f75287"
      },
      "execution_count": 2,
      "outputs": [
        {
          "output_type": "stream",
          "name": "stderr",
          "text": [
            "/usr/local/lib/python3.10/dist-packages/pydantic/_internal/_config.py:341: UserWarning: Valid config keys have changed in V2:\n",
            "* 'allow_population_by_field_name' has been renamed to 'populate_by_name'\n",
            "* 'smart_union' has been removed\n",
            "  warnings.warn(message, UserWarning)\n"
          ]
        }
      ]
    },
    {
      "cell_type": "code",
      "source": [
        "os.environ[\"GROQ_API_KEY\"] = userdata.get(\"lama3\")"
      ],
      "metadata": {
        "id": "F5_mO8IBe5TI"
      },
      "execution_count": 3,
      "outputs": []
    },
    {
      "cell_type": "code",
      "source": [
        "!gdown 1Q7GnaGpXxmrI2S7mxKmeFFqj8dotsxAM"
      ],
      "metadata": {
        "colab": {
          "base_uri": "https://localhost:8080/"
        },
        "id": "vdBfu4pgfHGo",
        "outputId": "a4ab5134-1660-487e-e411-f248b8fd9284"
      },
      "execution_count": 4,
      "outputs": [
        {
          "output_type": "stream",
          "name": "stdout",
          "text": [
            "Downloading...\n",
            "From: https://drive.google.com/uc?id=1Q7GnaGpXxmrI2S7mxKmeFFqj8dotsxAM\n",
            "To: /content/ds-salaries.csv\n",
            "\r  0% 0.00/210k [00:00<?, ?B/s]\r100% 210k/210k [00:00<00:00, 97.6MB/s]\n"
          ]
        }
      ]
    },
    {
      "cell_type": "code",
      "source": [
        "df = pd.read_csv(\"ds-salaries.csv\")\n",
        "df.head()"
      ],
      "metadata": {
        "colab": {
          "base_uri": "https://localhost:8080/",
          "height": 206
        },
        "id": "g5lEcLhDfHJa",
        "outputId": "8ace2525-73fa-4dc9-de52-c18575ea318e"
      },
      "execution_count": 5,
      "outputs": [
        {
          "output_type": "execute_result",
          "data": {
            "text/plain": [
              "   work_year experience_level employment_type                 job_title  \\\n",
              "0       2023               SE              FT  Principal Data Scientist   \n",
              "1       2023               MI              CT               ML Engineer   \n",
              "2       2023               MI              CT               ML Engineer   \n",
              "3       2023               SE              FT            Data Scientist   \n",
              "4       2023               SE              FT            Data Scientist   \n",
              "\n",
              "   salary salary_currency  salary_in_usd employee_residence  remote_ratio  \\\n",
              "0   80000             EUR          85847                 ES           100   \n",
              "1   30000             USD          30000                 US           100   \n",
              "2   25500             USD          25500                 US           100   \n",
              "3  175000             USD         175000                 CA           100   \n",
              "4  120000             USD         120000                 CA           100   \n",
              "\n",
              "  company_location company_size  \n",
              "0               ES            L  \n",
              "1               US            S  \n",
              "2               US            S  \n",
              "3               CA            M  \n",
              "4               CA            M  "
            ],
            "text/html": [
              "\n",
              "  <div id=\"df-aa69be61-77e5-43a3-9803-c4302e91f3a2\" class=\"colab-df-container\">\n",
              "    <div>\n",
              "<style scoped>\n",
              "    .dataframe tbody tr th:only-of-type {\n",
              "        vertical-align: middle;\n",
              "    }\n",
              "\n",
              "    .dataframe tbody tr th {\n",
              "        vertical-align: top;\n",
              "    }\n",
              "\n",
              "    .dataframe thead th {\n",
              "        text-align: right;\n",
              "    }\n",
              "</style>\n",
              "<table border=\"1\" class=\"dataframe\">\n",
              "  <thead>\n",
              "    <tr style=\"text-align: right;\">\n",
              "      <th></th>\n",
              "      <th>work_year</th>\n",
              "      <th>experience_level</th>\n",
              "      <th>employment_type</th>\n",
              "      <th>job_title</th>\n",
              "      <th>salary</th>\n",
              "      <th>salary_currency</th>\n",
              "      <th>salary_in_usd</th>\n",
              "      <th>employee_residence</th>\n",
              "      <th>remote_ratio</th>\n",
              "      <th>company_location</th>\n",
              "      <th>company_size</th>\n",
              "    </tr>\n",
              "  </thead>\n",
              "  <tbody>\n",
              "    <tr>\n",
              "      <th>0</th>\n",
              "      <td>2023</td>\n",
              "      <td>SE</td>\n",
              "      <td>FT</td>\n",
              "      <td>Principal Data Scientist</td>\n",
              "      <td>80000</td>\n",
              "      <td>EUR</td>\n",
              "      <td>85847</td>\n",
              "      <td>ES</td>\n",
              "      <td>100</td>\n",
              "      <td>ES</td>\n",
              "      <td>L</td>\n",
              "    </tr>\n",
              "    <tr>\n",
              "      <th>1</th>\n",
              "      <td>2023</td>\n",
              "      <td>MI</td>\n",
              "      <td>CT</td>\n",
              "      <td>ML Engineer</td>\n",
              "      <td>30000</td>\n",
              "      <td>USD</td>\n",
              "      <td>30000</td>\n",
              "      <td>US</td>\n",
              "      <td>100</td>\n",
              "      <td>US</td>\n",
              "      <td>S</td>\n",
              "    </tr>\n",
              "    <tr>\n",
              "      <th>2</th>\n",
              "      <td>2023</td>\n",
              "      <td>MI</td>\n",
              "      <td>CT</td>\n",
              "      <td>ML Engineer</td>\n",
              "      <td>25500</td>\n",
              "      <td>USD</td>\n",
              "      <td>25500</td>\n",
              "      <td>US</td>\n",
              "      <td>100</td>\n",
              "      <td>US</td>\n",
              "      <td>S</td>\n",
              "    </tr>\n",
              "    <tr>\n",
              "      <th>3</th>\n",
              "      <td>2023</td>\n",
              "      <td>SE</td>\n",
              "      <td>FT</td>\n",
              "      <td>Data Scientist</td>\n",
              "      <td>175000</td>\n",
              "      <td>USD</td>\n",
              "      <td>175000</td>\n",
              "      <td>CA</td>\n",
              "      <td>100</td>\n",
              "      <td>CA</td>\n",
              "      <td>M</td>\n",
              "    </tr>\n",
              "    <tr>\n",
              "      <th>4</th>\n",
              "      <td>2023</td>\n",
              "      <td>SE</td>\n",
              "      <td>FT</td>\n",
              "      <td>Data Scientist</td>\n",
              "      <td>120000</td>\n",
              "      <td>USD</td>\n",
              "      <td>120000</td>\n",
              "      <td>CA</td>\n",
              "      <td>100</td>\n",
              "      <td>CA</td>\n",
              "      <td>M</td>\n",
              "    </tr>\n",
              "  </tbody>\n",
              "</table>\n",
              "</div>\n",
              "    <div class=\"colab-df-buttons\">\n",
              "\n",
              "  <div class=\"colab-df-container\">\n",
              "    <button class=\"colab-df-convert\" onclick=\"convertToInteractive('df-aa69be61-77e5-43a3-9803-c4302e91f3a2')\"\n",
              "            title=\"Convert this dataframe to an interactive table.\"\n",
              "            style=\"display:none;\">\n",
              "\n",
              "  <svg xmlns=\"http://www.w3.org/2000/svg\" height=\"24px\" viewBox=\"0 -960 960 960\">\n",
              "    <path d=\"M120-120v-720h720v720H120Zm60-500h600v-160H180v160Zm220 220h160v-160H400v160Zm0 220h160v-160H400v160ZM180-400h160v-160H180v160Zm440 0h160v-160H620v160ZM180-180h160v-160H180v160Zm440 0h160v-160H620v160Z\"/>\n",
              "  </svg>\n",
              "    </button>\n",
              "\n",
              "  <style>\n",
              "    .colab-df-container {\n",
              "      display:flex;\n",
              "      gap: 12px;\n",
              "    }\n",
              "\n",
              "    .colab-df-convert {\n",
              "      background-color: #E8F0FE;\n",
              "      border: none;\n",
              "      border-radius: 50%;\n",
              "      cursor: pointer;\n",
              "      display: none;\n",
              "      fill: #1967D2;\n",
              "      height: 32px;\n",
              "      padding: 0 0 0 0;\n",
              "      width: 32px;\n",
              "    }\n",
              "\n",
              "    .colab-df-convert:hover {\n",
              "      background-color: #E2EBFA;\n",
              "      box-shadow: 0px 1px 2px rgba(60, 64, 67, 0.3), 0px 1px 3px 1px rgba(60, 64, 67, 0.15);\n",
              "      fill: #174EA6;\n",
              "    }\n",
              "\n",
              "    .colab-df-buttons div {\n",
              "      margin-bottom: 4px;\n",
              "    }\n",
              "\n",
              "    [theme=dark] .colab-df-convert {\n",
              "      background-color: #3B4455;\n",
              "      fill: #D2E3FC;\n",
              "    }\n",
              "\n",
              "    [theme=dark] .colab-df-convert:hover {\n",
              "      background-color: #434B5C;\n",
              "      box-shadow: 0px 1px 3px 1px rgba(0, 0, 0, 0.15);\n",
              "      filter: drop-shadow(0px 1px 2px rgba(0, 0, 0, 0.3));\n",
              "      fill: #FFFFFF;\n",
              "    }\n",
              "  </style>\n",
              "\n",
              "    <script>\n",
              "      const buttonEl =\n",
              "        document.querySelector('#df-aa69be61-77e5-43a3-9803-c4302e91f3a2 button.colab-df-convert');\n",
              "      buttonEl.style.display =\n",
              "        google.colab.kernel.accessAllowed ? 'block' : 'none';\n",
              "\n",
              "      async function convertToInteractive(key) {\n",
              "        const element = document.querySelector('#df-aa69be61-77e5-43a3-9803-c4302e91f3a2');\n",
              "        const dataTable =\n",
              "          await google.colab.kernel.invokeFunction('convertToInteractive',\n",
              "                                                    [key], {});\n",
              "        if (!dataTable) return;\n",
              "\n",
              "        const docLinkHtml = 'Like what you see? Visit the ' +\n",
              "          '<a target=\"_blank\" href=https://colab.research.google.com/notebooks/data_table.ipynb>data table notebook</a>'\n",
              "          + ' to learn more about interactive tables.';\n",
              "        element.innerHTML = '';\n",
              "        dataTable['output_type'] = 'display_data';\n",
              "        await google.colab.output.renderOutput(dataTable, element);\n",
              "        const docLink = document.createElement('div');\n",
              "        docLink.innerHTML = docLinkHtml;\n",
              "        element.appendChild(docLink);\n",
              "      }\n",
              "    </script>\n",
              "  </div>\n",
              "\n",
              "\n",
              "<div id=\"df-79976393-c54a-4d10-b9cb-c77043c66fd5\">\n",
              "  <button class=\"colab-df-quickchart\" onclick=\"quickchart('df-79976393-c54a-4d10-b9cb-c77043c66fd5')\"\n",
              "            title=\"Suggest charts\"\n",
              "            style=\"display:none;\">\n",
              "\n",
              "<svg xmlns=\"http://www.w3.org/2000/svg\" height=\"24px\"viewBox=\"0 0 24 24\"\n",
              "     width=\"24px\">\n",
              "    <g>\n",
              "        <path d=\"M19 3H5c-1.1 0-2 .9-2 2v14c0 1.1.9 2 2 2h14c1.1 0 2-.9 2-2V5c0-1.1-.9-2-2-2zM9 17H7v-7h2v7zm4 0h-2V7h2v10zm4 0h-2v-4h2v4z\"/>\n",
              "    </g>\n",
              "</svg>\n",
              "  </button>\n",
              "\n",
              "<style>\n",
              "  .colab-df-quickchart {\n",
              "      --bg-color: #E8F0FE;\n",
              "      --fill-color: #1967D2;\n",
              "      --hover-bg-color: #E2EBFA;\n",
              "      --hover-fill-color: #174EA6;\n",
              "      --disabled-fill-color: #AAA;\n",
              "      --disabled-bg-color: #DDD;\n",
              "  }\n",
              "\n",
              "  [theme=dark] .colab-df-quickchart {\n",
              "      --bg-color: #3B4455;\n",
              "      --fill-color: #D2E3FC;\n",
              "      --hover-bg-color: #434B5C;\n",
              "      --hover-fill-color: #FFFFFF;\n",
              "      --disabled-bg-color: #3B4455;\n",
              "      --disabled-fill-color: #666;\n",
              "  }\n",
              "\n",
              "  .colab-df-quickchart {\n",
              "    background-color: var(--bg-color);\n",
              "    border: none;\n",
              "    border-radius: 50%;\n",
              "    cursor: pointer;\n",
              "    display: none;\n",
              "    fill: var(--fill-color);\n",
              "    height: 32px;\n",
              "    padding: 0;\n",
              "    width: 32px;\n",
              "  }\n",
              "\n",
              "  .colab-df-quickchart:hover {\n",
              "    background-color: var(--hover-bg-color);\n",
              "    box-shadow: 0 1px 2px rgba(60, 64, 67, 0.3), 0 1px 3px 1px rgba(60, 64, 67, 0.15);\n",
              "    fill: var(--button-hover-fill-color);\n",
              "  }\n",
              "\n",
              "  .colab-df-quickchart-complete:disabled,\n",
              "  .colab-df-quickchart-complete:disabled:hover {\n",
              "    background-color: var(--disabled-bg-color);\n",
              "    fill: var(--disabled-fill-color);\n",
              "    box-shadow: none;\n",
              "  }\n",
              "\n",
              "  .colab-df-spinner {\n",
              "    border: 2px solid var(--fill-color);\n",
              "    border-color: transparent;\n",
              "    border-bottom-color: var(--fill-color);\n",
              "    animation:\n",
              "      spin 1s steps(1) infinite;\n",
              "  }\n",
              "\n",
              "  @keyframes spin {\n",
              "    0% {\n",
              "      border-color: transparent;\n",
              "      border-bottom-color: var(--fill-color);\n",
              "      border-left-color: var(--fill-color);\n",
              "    }\n",
              "    20% {\n",
              "      border-color: transparent;\n",
              "      border-left-color: var(--fill-color);\n",
              "      border-top-color: var(--fill-color);\n",
              "    }\n",
              "    30% {\n",
              "      border-color: transparent;\n",
              "      border-left-color: var(--fill-color);\n",
              "      border-top-color: var(--fill-color);\n",
              "      border-right-color: var(--fill-color);\n",
              "    }\n",
              "    40% {\n",
              "      border-color: transparent;\n",
              "      border-right-color: var(--fill-color);\n",
              "      border-top-color: var(--fill-color);\n",
              "    }\n",
              "    60% {\n",
              "      border-color: transparent;\n",
              "      border-right-color: var(--fill-color);\n",
              "    }\n",
              "    80% {\n",
              "      border-color: transparent;\n",
              "      border-right-color: var(--fill-color);\n",
              "      border-bottom-color: var(--fill-color);\n",
              "    }\n",
              "    90% {\n",
              "      border-color: transparent;\n",
              "      border-bottom-color: var(--fill-color);\n",
              "    }\n",
              "  }\n",
              "</style>\n",
              "\n",
              "  <script>\n",
              "    async function quickchart(key) {\n",
              "      const quickchartButtonEl =\n",
              "        document.querySelector('#' + key + ' button');\n",
              "      quickchartButtonEl.disabled = true;  // To prevent multiple clicks.\n",
              "      quickchartButtonEl.classList.add('colab-df-spinner');\n",
              "      try {\n",
              "        const charts = await google.colab.kernel.invokeFunction(\n",
              "            'suggestCharts', [key], {});\n",
              "      } catch (error) {\n",
              "        console.error('Error during call to suggestCharts:', error);\n",
              "      }\n",
              "      quickchartButtonEl.classList.remove('colab-df-spinner');\n",
              "      quickchartButtonEl.classList.add('colab-df-quickchart-complete');\n",
              "    }\n",
              "    (() => {\n",
              "      let quickchartButtonEl =\n",
              "        document.querySelector('#df-79976393-c54a-4d10-b9cb-c77043c66fd5 button');\n",
              "      quickchartButtonEl.style.display =\n",
              "        google.colab.kernel.accessAllowed ? 'block' : 'none';\n",
              "    })();\n",
              "  </script>\n",
              "</div>\n",
              "\n",
              "    </div>\n",
              "  </div>\n"
            ],
            "application/vnd.google.colaboratory.intrinsic+json": {
              "type": "dataframe",
              "variable_name": "df",
              "summary": "{\n  \"name\": \"df\",\n  \"rows\": 3755,\n  \"fields\": [\n    {\n      \"column\": \"work_year\",\n      \"properties\": {\n        \"dtype\": \"number\",\n        \"std\": 0,\n        \"min\": 2020,\n        \"max\": 2023,\n        \"num_unique_values\": 4,\n        \"samples\": [\n          2022,\n          2021,\n          2023\n        ],\n        \"semantic_type\": \"\",\n        \"description\": \"\"\n      }\n    },\n    {\n      \"column\": \"experience_level\",\n      \"properties\": {\n        \"dtype\": \"category\",\n        \"num_unique_values\": 4,\n        \"samples\": [\n          \"MI\",\n          \"EX\",\n          \"SE\"\n        ],\n        \"semantic_type\": \"\",\n        \"description\": \"\"\n      }\n    },\n    {\n      \"column\": \"employment_type\",\n      \"properties\": {\n        \"dtype\": \"category\",\n        \"num_unique_values\": 4,\n        \"samples\": [\n          \"CT\",\n          \"PT\",\n          \"FT\"\n        ],\n        \"semantic_type\": \"\",\n        \"description\": \"\"\n      }\n    },\n    {\n      \"column\": \"job_title\",\n      \"properties\": {\n        \"dtype\": \"category\",\n        \"num_unique_values\": 93,\n        \"samples\": [\n          \"Cloud Database Engineer\",\n          \"Staff Data Analyst\",\n          \"Insight Analyst\"\n        ],\n        \"semantic_type\": \"\",\n        \"description\": \"\"\n      }\n    },\n    {\n      \"column\": \"salary\",\n      \"properties\": {\n        \"dtype\": \"number\",\n        \"std\": 671676,\n        \"min\": 6000,\n        \"max\": 30400000,\n        \"num_unique_values\": 815,\n        \"samples\": [\n          84570,\n          138000,\n          370000\n        ],\n        \"semantic_type\": \"\",\n        \"description\": \"\"\n      }\n    },\n    {\n      \"column\": \"salary_currency\",\n      \"properties\": {\n        \"dtype\": \"category\",\n        \"num_unique_values\": 20,\n        \"samples\": [\n          \"EUR\",\n          \"MXN\",\n          \"DKK\"\n        ],\n        \"semantic_type\": \"\",\n        \"description\": \"\"\n      }\n    },\n    {\n      \"column\": \"salary_in_usd\",\n      \"properties\": {\n        \"dtype\": \"number\",\n        \"std\": 63055,\n        \"min\": 5132,\n        \"max\": 450000,\n        \"num_unique_values\": 1035,\n        \"samples\": [\n          205600,\n          375000,\n          140700\n        ],\n        \"semantic_type\": \"\",\n        \"description\": \"\"\n      }\n    },\n    {\n      \"column\": \"employee_residence\",\n      \"properties\": {\n        \"dtype\": \"category\",\n        \"num_unique_values\": 78,\n        \"samples\": [\n          \"AR\",\n          \"ES\",\n          \"AM\"\n        ],\n        \"semantic_type\": \"\",\n        \"description\": \"\"\n      }\n    },\n    {\n      \"column\": \"remote_ratio\",\n      \"properties\": {\n        \"dtype\": \"number\",\n        \"std\": 48,\n        \"min\": 0,\n        \"max\": 100,\n        \"num_unique_values\": 3,\n        \"samples\": [\n          100,\n          0,\n          50\n        ],\n        \"semantic_type\": \"\",\n        \"description\": \"\"\n      }\n    },\n    {\n      \"column\": \"company_location\",\n      \"properties\": {\n        \"dtype\": \"category\",\n        \"num_unique_values\": 72,\n        \"samples\": [\n          \"GB\",\n          \"MY\",\n          \"SG\"\n        ],\n        \"semantic_type\": \"\",\n        \"description\": \"\"\n      }\n    },\n    {\n      \"column\": \"company_size\",\n      \"properties\": {\n        \"dtype\": \"category\",\n        \"num_unique_values\": 3,\n        \"samples\": [\n          \"L\",\n          \"S\",\n          \"M\"\n        ],\n        \"semantic_type\": \"\",\n        \"description\": \"\"\n      }\n    }\n  ]\n}"
            }
          },
          "metadata": {},
          "execution_count": 5
        }
      ]
    },
    {
      "cell_type": "code",
      "source": [
        "connection = sqlite3.connect(\"salaries.db\")\n",
        "df.to_sql(name=\"salaries\", con=connection)"
      ],
      "metadata": {
        "colab": {
          "base_uri": "https://localhost:8080/"
        },
        "id": "NNilVXYrfHL9",
        "outputId": "1f8191a2-381f-4246-c6ff-8e6f7ed8d920"
      },
      "execution_count": 6,
      "outputs": [
        {
          "output_type": "execute_result",
          "data": {
            "text/plain": [
              "3755"
            ]
          },
          "metadata": {},
          "execution_count": 6
        }
      ]
    },
    {
      "cell_type": "code",
      "source": [
        "@dataclass\n",
        "class Event:\n",
        "    event: str\n",
        "    timestamp: str\n",
        "    text: str\n",
        "\n",
        "\n",
        "def _current_time() -> str:\n",
        "    return datetime.now(timezone.utc).isoformat()\n",
        "\n",
        "\n",
        "class LLMCallbackHandler(BaseCallbackHandler):\n",
        "    def __init__(self, log_path: Path):\n",
        "        self.log_path = log_path\n",
        "\n",
        "    def on_llm_start(\n",
        "        self, serialized: Dict[str, Any], prompts: List[str], **kwargs: Any\n",
        "    ) -> Any:\n",
        "        \"\"\"Run when LLM starts running.\"\"\"\n",
        "        assert len(prompts) == 1\n",
        "        event = Event(event=\"llm_start\", timestamp=_current_time(), text=prompts[0])\n",
        "        with self.log_path.open(\"a\", encoding=\"utf-8\") as file:\n",
        "            file.write(json.dumps(asdict(event)) + \"\\n\")\n",
        "\n",
        "    def on_llm_end(self, response: LLMResult, **kwargs: Any) -> Any:\n",
        "        \"\"\"Run when LLM ends running.\"\"\"\n",
        "        generation = response.generations[-1][-1].message.content\n",
        "        event = Event(event=\"llm_end\", timestamp=_current_time(), text=generation)\n",
        "        with self.log_path.open(\"a\", encoding=\"utf-8\") as file:\n",
        "            file.write(json.dumps(asdict(event)) + \"\\n\")"
      ],
      "metadata": {
        "id": "KMJ5rwb0fHOG"
      },
      "execution_count": 7,
      "outputs": []
    },
    {
      "cell_type": "code",
      "source": [
        "llm = ChatGroq(\n",
        "    temperature=0,\n",
        "    model_name=\"llama3-70b-8192\",\n",
        "    callbacks=[LLMCallbackHandler(Path(\"prompts.jsonl\"))],\n",
        ")"
      ],
      "metadata": {
        "id": "2pyfP-R1fT75"
      },
      "execution_count": 8,
      "outputs": []
    },
    {
      "cell_type": "code",
      "source": [
        "human = \"{text}\"\n",
        "prompt = ChatPromptTemplate.from_messages([(\"human\", human)])\n",
        "\n",
        "chain = prompt | llm\n",
        "response = chain.invoke(\n",
        "    {\n",
        "        \"text\": \"Which company has better models OpenAI or Anthropic? Respond with just the company name.\"\n",
        "    }\n",
        ")\n",
        "\n",
        "print(response.content)"
      ],
      "metadata": {
        "colab": {
          "base_uri": "https://localhost:8080/"
        },
        "id": "IX_yjSEYfT-t",
        "outputId": "da64deb0-9be3-4e74-d5ae-286fdc02fd23"
      },
      "execution_count": 9,
      "outputs": [
        {
          "output_type": "stream",
          "name": "stdout",
          "text": [
            "Anthropic\n"
          ]
        }
      ]
    },
    {
      "cell_type": "code",
      "source": [
        "response.__dict__"
      ],
      "metadata": {
        "colab": {
          "base_uri": "https://localhost:8080/"
        },
        "id": "scCABb9ofYCL",
        "outputId": "2946c9df-9844-44a7-d357-c0d6673b551c"
      },
      "execution_count": 10,
      "outputs": [
        {
          "output_type": "execute_result",
          "data": {
            "text/plain": [
              "{'content': 'Anthropic',\n",
              " 'additional_kwargs': {},\n",
              " 'response_metadata': {'token_usage': {'completion_tokens': 3,\n",
              "   'prompt_tokens': 28,\n",
              "   'total_tokens': 31,\n",
              "   'completion_time': 0.009908992,\n",
              "   'prompt_time': 0.000979973,\n",
              "   'queue_time': 0.07847999700000001,\n",
              "   'total_time': 0.010888965},\n",
              "  'model_name': 'llama3-70b-8192',\n",
              "  'system_fingerprint': 'fp_753a4aecf6',\n",
              "  'finish_reason': 'stop',\n",
              "  'logprobs': None},\n",
              " 'type': 'ai',\n",
              " 'name': None,\n",
              " 'id': 'run-61eb9d48-fc3b-4151-b8f0-cbec4d29797c-0',\n",
              " 'example': False,\n",
              " 'tool_calls': [],\n",
              " 'invalid_tool_calls': [],\n",
              " 'usage_metadata': None}"
            ]
          },
          "metadata": {},
          "execution_count": 10
        }
      ]
    },
    {
      "cell_type": "code",
      "source": [
        "db = SQLDatabase.from_uri(\"sqlite:///salaries.db\")"
      ],
      "metadata": {
        "id": "-S7nWOYofYFK"
      },
      "execution_count": 11,
      "outputs": []
    },
    {
      "cell_type": "code",
      "source": [
        "@tool(\"list_tables\")\n",
        "def list_tables() -> str:\n",
        "    \"\"\"List the available tables in the database\"\"\"\n",
        "    return ListSQLDatabaseTool(db=db).invoke(\"\")"
      ],
      "metadata": {
        "id": "foRD27QwfYHv"
      },
      "execution_count": 12,
      "outputs": []
    },
    {
      "cell_type": "code",
      "source": [
        "db_config = SQLDatabase.from_uri(\"sqlite:///salaries.db\")\n",
        "\n",
        "@tool(\"list_tables\")\n",
        "def list_tables() -> str:\n",
        "    \"\"\"List the available tables in the database.\"\"\"\n",
        "    return ListSQLDatabaseTool(db=db_config).invoke(\"\")\n"
      ],
      "metadata": {
        "id": "2tQDiszehk2p"
      },
      "execution_count": 29,
      "outputs": []
    },
    {
      "cell_type": "code",
      "source": [
        "list_tables.run()"
      ],
      "metadata": {
        "colab": {
          "base_uri": "https://localhost:8080/",
          "height": 55
        },
        "id": "ntzYgwItfYJu",
        "outputId": "091a7bfb-a7ac-4835-f38a-a77473dbfcbd"
      },
      "execution_count": 13,
      "outputs": [
        {
          "output_type": "stream",
          "name": "stdout",
          "text": [
            "Using Tool: list_tables\n"
          ]
        },
        {
          "output_type": "execute_result",
          "data": {
            "text/plain": [
              "'salaries'"
            ],
            "application/vnd.google.colaboratory.intrinsic+json": {
              "type": "string"
            }
          },
          "metadata": {},
          "execution_count": 13
        }
      ]
    },
    {
      "cell_type": "code",
      "source": [
        "@tool(\"tables_schema\")\n",
        "def tables_schema(tables: str) -> str:\n",
        "    \"\"\"\n",
        "    Input is a comma-separated list of tables, output is the schema and sample rows\n",
        "    for those tables. Be sure that the tables actually exist by calling `list_tables` first!\n",
        "    Example Input: table1, table2, table3\n",
        "    \"\"\"\n",
        "    tool = InfoSQLDatabaseTool(db=db)\n",
        "    return tool.invoke(tables)"
      ],
      "metadata": {
        "id": "ANf_sEvmfYML"
      },
      "execution_count": 14,
      "outputs": []
    },
    {
      "cell_type": "code",
      "source": [
        "print(tables_schema.run(\"salaries\"))"
      ],
      "metadata": {
        "colab": {
          "base_uri": "https://localhost:8080/"
        },
        "id": "EQAAe2ilfUBR",
        "outputId": "19930adc-87e3-4382-f945-fef3d98bbe89"
      },
      "execution_count": 15,
      "outputs": [
        {
          "output_type": "stream",
          "name": "stdout",
          "text": [
            "Using Tool: tables_schema\n",
            "\n",
            "CREATE TABLE salaries (\n",
            "\t\"index\" INTEGER, \n",
            "\twork_year INTEGER, \n",
            "\texperience_level TEXT, \n",
            "\temployment_type TEXT, \n",
            "\tjob_title TEXT, \n",
            "\tsalary INTEGER, \n",
            "\tsalary_currency TEXT, \n",
            "\tsalary_in_usd INTEGER, \n",
            "\temployee_residence TEXT, \n",
            "\tremote_ratio INTEGER, \n",
            "\tcompany_location TEXT, \n",
            "\tcompany_size TEXT\n",
            ")\n",
            "\n",
            "/*\n",
            "3 rows from salaries table:\n",
            "index\twork_year\texperience_level\temployment_type\tjob_title\tsalary\tsalary_currency\tsalary_in_usd\temployee_residence\tremote_ratio\tcompany_location\tcompany_size\n",
            "0\t2023\tSE\tFT\tPrincipal Data Scientist\t80000\tEUR\t85847\tES\t100\tES\tL\n",
            "1\t2023\tMI\tCT\tML Engineer\t30000\tUSD\t30000\tUS\t100\tUS\tS\n",
            "2\t2023\tMI\tCT\tML Engineer\t25500\tUSD\t25500\tUS\t100\tUS\tS\n",
            "*/\n"
          ]
        }
      ]
    },
    {
      "cell_type": "code",
      "source": [
        "@tool(\"execute_sql\")\n",
        "def execute_sql(sql_query: str) -> str:\n",
        "    \"\"\"Execute a SQL query against the database. Returns the result\"\"\"\n",
        "    return QuerySQLDataBaseTool(db=db).invoke(sql_query)"
      ],
      "metadata": {
        "id": "YbOM2keOf5Vx"
      },
      "execution_count": 16,
      "outputs": []
    },
    {
      "cell_type": "code",
      "source": [
        "execute_sql.run(\"SELECT * FROM salaries WHERE salary > 10000 LIMIT 5\")"
      ],
      "metadata": {
        "colab": {
          "base_uri": "https://localhost:8080/",
          "height": 73
        },
        "id": "UPwN6eSqf5Yv",
        "outputId": "67fed505-17d0-4240-813a-6d3697a12437"
      },
      "execution_count": 17,
      "outputs": [
        {
          "output_type": "stream",
          "name": "stdout",
          "text": [
            "Using Tool: execute_sql\n"
          ]
        },
        {
          "output_type": "execute_result",
          "data": {
            "text/plain": [
              "\"[(0, 2023, 'SE', 'FT', 'Principal Data Scientist', 80000, 'EUR', 85847, 'ES', 100, 'ES', 'L'), (1, 2023, 'MI', 'CT', 'ML Engineer', 30000, 'USD', 30000, 'US', 100, 'US', 'S'), (2, 2023, 'MI', 'CT', 'ML Engineer', 25500, 'USD', 25500, 'US', 100, 'US', 'S'), (3, 2023, 'SE', 'FT', 'Data Scientist', 175000, 'USD', 175000, 'CA', 100, 'CA', 'M'), (4, 2023, 'SE', 'FT', 'Data Scientist', 120000, 'USD', 120000, 'CA', 100, 'CA', 'M')]\""
            ],
            "application/vnd.google.colaboratory.intrinsic+json": {
              "type": "string"
            }
          },
          "metadata": {},
          "execution_count": 17
        }
      ]
    },
    {
      "cell_type": "code",
      "source": [
        "@tool(\"check_sql\")\n",
        "def check_sql(sql_query: str) -> str:\n",
        "    \"\"\"\n",
        "    Use this tool to double check if your query is correct before executing it. Always use this\n",
        "    tool before executing a query with `execute_sql`.\n",
        "    \"\"\"\n",
        "    return QuerySQLCheckerTool(db=db, llm=llm).invoke({\"query\": sql_query})\n",
        ""
      ],
      "metadata": {
        "id": "jL9AbQ__f5oG"
      },
      "execution_count": 18,
      "outputs": []
    },
    {
      "cell_type": "code",
      "source": [
        "check_sql.run(\"SELECT * WHERE salary > 10000 LIMIT 5 table = salaries\")"
      ],
      "metadata": {
        "colab": {
          "base_uri": "https://localhost:8080/",
          "height": 73
        },
        "id": "Bi8ShHfnf5rF",
        "outputId": "0d3e5416-75fd-4067-c6ba-a62739df14d1"
      },
      "execution_count": 19,
      "outputs": [
        {
          "output_type": "stream",
          "name": "stdout",
          "text": [
            "Using Tool: check_sql\n"
          ]
        },
        {
          "output_type": "execute_result",
          "data": {
            "text/plain": [
              "'Here is the corrected SQL query:\\n\\n```sql\\nSELECT *\\nFROM salaries\\nWHERE salary > 10000\\nLIMIT 5;\\n```\\n\\nThis query will return all columns from the \"salaries\" table where the salary is greater than 10000, limited to 5 rows.'"
            ],
            "application/vnd.google.colaboratory.intrinsic+json": {
              "type": "string"
            }
          },
          "metadata": {},
          "execution_count": 19
        }
      ]
    },
    {
      "cell_type": "code",
      "source": [
        "sql_dev = Agent(\n",
        "    role=\"Senior Database Developer\",\n",
        "    goal=\"Construct and execute SQL queries based on a request\",\n",
        "    backstory=dedent(\n",
        "        \"\"\"\n",
        "        You are an experienced database engineer who is master at creating efficient and complex SQL queries.\n",
        "        You have a deep understanding of how different databases work and how to optimize queries.\n",
        "        Use the `list_tables` to find available tables.\n",
        "        Use the `tables_schema` to understand the metadata for the tables.\n",
        "        Use the `execute_sql` to check your queries for correctness.\n",
        "        Use the `check_sql` to execute queries against the database.\n",
        "    \"\"\"\n",
        "    ),\n",
        "    llm=llm,\n",
        "    tools=[list_tables, tables_schema, execute_sql, check_sql],\n",
        "    allow_delegation=False,\n",
        ")"
      ],
      "metadata": {
        "id": "iC4TrRuKf5vj"
      },
      "execution_count": 20,
      "outputs": []
    },
    {
      "cell_type": "code",
      "source": [
        "data_analyst = Agent(\n",
        "    role=\"Senior Data Analyst\",\n",
        "    goal=\"You receive data from the database developer and analyze it\",\n",
        "    backstory=dedent(\n",
        "        \"\"\"\n",
        "        You have deep experience with analyzing datasets using Python.\n",
        "        Your work is always based on the provided data and is clear,\n",
        "        easy-to-understand and to the point. You have attention\n",
        "        to detail and always produce very detailed work (as long as you need).\n",
        "    \"\"\"\n",
        "    ),\n",
        "    llm=llm,\n",
        "    allow_delegation=False,\n",
        ")"
      ],
      "metadata": {
        "id": "-QoBrEOvf5_1"
      },
      "execution_count": 21,
      "outputs": []
    },
    {
      "cell_type": "code",
      "source": [
        "report_writer = Agent(\n",
        "    role=\"Senior Report Editor\",\n",
        "    goal=\"Write an executive summary type of report based on the work of the analyst\",\n",
        "    backstory=dedent(\n",
        "        \"\"\"\n",
        "        Your writing still is well known for clear and effective communication.\n",
        "        You always summarize long texts into bullet points that contain the most\n",
        "        important details.\n",
        "        \"\"\"\n",
        "    ),\n",
        "    llm=llm,\n",
        "    allow_delegation=False,\n",
        ")"
      ],
      "metadata": {
        "id": "0K_hJpF8gPLp"
      },
      "execution_count": 22,
      "outputs": []
    },
    {
      "cell_type": "code",
      "source": [
        "extract_data = Task(\n",
        "    description=\"Extract data that is required for the query {query}.\",\n",
        "    expected_output=\"Database result for the query\",\n",
        "    agent=sql_dev,\n",
        ")"
      ],
      "metadata": {
        "id": "JPBNcCVRgPOS"
      },
      "execution_count": 23,
      "outputs": []
    },
    {
      "cell_type": "code",
      "source": [
        "\n",
        "analyze_data = Task(\n",
        "    description=\"Analyze the data from the database and write an analysis for {query}.\",\n",
        "    expected_output=\"Detailed analysis text\",\n",
        "    agent=data_analyst,\n",
        "    context=[extract_data],\n",
        ")"
      ],
      "metadata": {
        "id": "KQPKJgBPgPRA"
      },
      "execution_count": 24,
      "outputs": []
    },
    {
      "cell_type": "code",
      "source": [
        "write_report = Task(\n",
        "    description=dedent(\n",
        "        \"\"\"\n",
        "        Write an executive summary of the report from the analysis. The report\n",
        "        must be less than 100 words.\n",
        "    \"\"\"\n",
        "    ),\n",
        "    expected_output=\"Markdown report\",\n",
        "    agent=report_writer,\n",
        "    context=[analyze_data],\n",
        ")\n",
        ""
      ],
      "metadata": {
        "id": "ORVuslQPgXZo"
      },
      "execution_count": 25,
      "outputs": []
    },
    {
      "cell_type": "code",
      "source": [
        "crew = Crew(\n",
        "    agents=[sql_dev, data_analyst, report_writer],\n",
        "    tasks=[extract_data, analyze_data, write_report],\n",
        "    process=Process.sequential,\n",
        "    verbose=2,\n",
        "    memory=False,\n",
        "    output_log_file=\"crew.log\",\n",
        ")"
      ],
      "metadata": {
        "id": "T0XEvZhagXcn"
      },
      "execution_count": 26,
      "outputs": []
    },
    {
      "cell_type": "code",
      "source": [
        "inputs = {\n",
        "    \"query\": \"Effects on salary (in USD) based on company location, size and employee experience\"\n",
        "}\n",
        "\n",
        "result = crew.kickoff(inputs=inputs)"
      ],
      "metadata": {
        "id": "mnTrL3BqgXhe"
      },
      "execution_count": null,
      "outputs": []
    },
    {
      "cell_type": "code",
      "source": [
        "\n",
        "print(result)"
      ],
      "metadata": {
        "id": "LM9v2pmgf6Cn"
      },
      "execution_count": null,
      "outputs": []
    },
    {
      "cell_type": "code",
      "source": [
        "inputs = {\n",
        "    \"query\": \"How is the `Machine Learning Engineer` salary in USD is affected by remote positions\"\n",
        "}\n",
        "\n",
        "result = crew.kickoff(inputs=inputs)"
      ],
      "metadata": {
        "id": "X6pPFyW3h6YV"
      },
      "execution_count": null,
      "outputs": []
    }
  ]
}